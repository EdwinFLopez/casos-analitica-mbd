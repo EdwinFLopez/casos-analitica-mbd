{
 "cells": [
  {
   "metadata": {},
   "cell_type": "markdown",
   "source": [
    "# Caso 3: Good Reads\n",
    "\n",
    "## Primera Parte: Análisis Cuantitativo.\n",
    "\n",
    "Primer examen preliminar de los datos.\n",
    "* ¿En qué formato está el dataset?\n",
    "* ¿Cómo podemos leerlo correctamente?\n",
    "* ¿Qué campos hay en cada fichero del dataset?\n",
    "* ¿Cuál es su significado?\n",
    "* ¿Existen valores aparentemente incorrectos?"
   ]
  },
  {
   "metadata": {},
   "cell_type": "code",
   "source": "!pip install -r ./../requirements.txt",
   "outputs": [],
   "execution_count": null
  },
  {
   "metadata": {},
   "cell_type": "code",
   "source": [
    "import geopandas as gpd\n",
    "import folium\n",
    "import os\n",
    "import pandas as pd\n",
    "import re\n",
    "import matplotlib.pyplot as plt\n",
    "import seaborn as sns\n",
    "import plotly.express as px\n",
    "from caso03.descomprimir_dataset import unzip_dataset"
   ],
   "outputs": [],
   "execution_count": null
  },
  {
   "metadata": {},
   "cell_type": "markdown",
   "source": [
    "## **Segunda Parte: Análisis Cualitativo**\n",
    "\n",
    "* ¿Cuál fue el año en el que se publicaron más libros? Muéstralo en un gráfico\n",
    "* ¿Y el autor más prolífico?\n",
    "* ¿Cuántos libros suyos hay en el dataset?\n"
   ]
  },
  {
   "metadata": {},
   "cell_type": "code",
   "source": [
    "# Carga de datos\n",
    "# Cargar dataset y descomprimir en /datos\n",
    "unzip_dataset(\"./dataset/BookCrossing.zip\",\"./data\")"
   ],
   "outputs": [],
   "execution_count": null
  },
  {
   "cell_type": "code",
   "metadata": {},
   "source": [
    "df_books = pd.read_csv(os.path.abspath(\"./data/BookCrossing/BX-Books.csv\"), delimiter=';', encoding='latin1', on_bad_lines='skip', low_memory=False)\n",
    "df_books.drop(columns=['Image-URL-S', 'Image-URL-M', 'Image-URL-L'], inplace=True)\n",
    "df_books.head(5)"
   ],
   "outputs": [],
   "execution_count": null
  },
  {
   "cell_type": "code",
   "metadata": {
    "colab": {
     "base_uri": "https://localhost:8080/",
     "height": 226
    },
    "id": "UytWRWY41muQ",
    "outputId": "e90127f3-5d2b-48d0-bdce-21f5080c5b1e"
   },
   "source": [
    "df_ratings = pd.read_csv(os.path.abspath(\"./data/BookCrossing/BX-Book-Ratings.csv\"), delimiter=';', na_values='NULL', encoding='latin1')\n",
    "df_ratings.head(5)"
   ],
   "outputs": [],
   "execution_count": null
  },
  {
   "cell_type": "code",
   "metadata": {},
   "source": [
    "df_users = pd.read_csv(os.path.abspath(\"./data/BookCrossing/BX-Users.csv\"), delimiter=';', na_values='NULL', encoding='latin1')\n",
    "df_users.head(3)\n",
    "# df_users.shape"
   ],
   "outputs": [],
   "execution_count": null
  },
  {
   "cell_type": "markdown",
   "metadata": {
    "id": "REAwPswkeLXh"
   },
   "source": [
    "### Cleaning dataset"
   ]
  },
  {
   "cell_type": "code",
   "metadata": {},
   "source": "df_books['Year-Of-Publication'].unique()",
   "outputs": [],
   "execution_count": null
  },
  {
   "cell_type": "code",
   "metadata": {},
   "source": [
    "# Convert 'Year of Publication' to numeric, coercing errors to NaN\n",
    "df_books['Year-Of-Publication'] = pd.to_numeric(df_books['Year-Of-Publication'], errors='coerce')\n",
    "df_books_cleaned = df_books[(df_books['Year-Of-Publication'] >= 1900) & (df_books['Year-Of-Publication'] <= 2024)]\n",
    "df_books_cleaned"
   ],
   "outputs": [],
   "execution_count": null
  },
  {
   "metadata": {},
   "cell_type": "code",
   "source": [
    "books = pd.read_csv(os.path.abspath(\"./data/BookCrossing/Books.csv\"), delimiter=';', encoding='latin1', on_bad_lines='skip', low_memory=False)\n",
    "books"
   ],
   "outputs": [],
   "execution_count": null
  },
  {
   "metadata": {},
   "cell_type": "code",
   "source": [
    "def clean_text(cell_value) -> str:\n",
    "    text = str(cell_value)                      # Convert the input text to string\n",
    "    text = text.strip()\n",
    "    text = text.lower()                         # Convert to lowercase\n",
    "    text = re.sub(r'\\s+', ' ', text)            # replace repeated blanks with a single one\n",
    "    text = re.sub(r' ', '-', text)              # replace blanks with '-'\n",
    "    text = re.sub(r'[^a-zA-Z0-9\\-]', '', text)  # Remove special characters \n",
    "    return text"
   ],
   "outputs": [],
   "execution_count": null
  },
  {
   "metadata": {},
   "cell_type": "code",
   "source": [
    "# Limpiamos textos\n",
    "for column_name in ['Book-Title', 'Book-Author', 'Publisher']:\n",
    "    df_books_cleaned[column_name] = df_books_cleaned[column_name].map(clean_text)\n",
    "    \n",
    "df_books_cleaned.head(3)"
   ],
   "outputs": [],
   "execution_count": null
  },
  {
   "cell_type": "markdown",
   "metadata": {
    "id": "2K03BMdJcHr3"
   },
   "source": [
    "### **2.1 ¿Cuál fue el año en el que se publicaron más libros? Muéstralo en un gráfico ¿Y el autor más prolífico? ¿Cuántos libros suyos hay en el dataset?**\n"
   ]
  },
  {
   "cell_type": "code",
   "metadata": {
    "colab": {
     "base_uri": "https://localhost:8080/"
    },
    "id": "49PR388N467I",
    "outputId": "8009f8ce-1dd3-424c-bbf4-fff6123a720a"
   },
   "source": [
    "# Agrupar por 'Year' y contar el número de publicaciones por cada año\n",
    "yearly_publications = df_books_cleaned.groupby('Year-Of-Publication').size().reset_index(name='Count')\n",
    "yearly_publications['Year-Of-Publication'] = yearly_publications['Year-Of-Publication'].astype(int)\n",
    "\n",
    "# Encontrar el año con el mayor número de publicaciones\n",
    "max_publication_year = yearly_publications.loc[yearly_publications['Count'].idxmax()]\n",
    "print(max_publication_year)"
   ],
   "outputs": [],
   "execution_count": null
  },
  {
   "cell_type": "code",
   "metadata": {
    "colab": {
     "base_uri": "https://localhost:8080/",
     "height": 661
    },
    "collapsed": true,
    "id": "fXjmeAv_f9kE",
    "outputId": "0f4cb169-db21-4d4e-a1e3-abe3555adda3"
   },
   "source": [
    "years = yearly_publications['Year-Of-Publication']\n",
    "min_year = years.min()\n",
    "max_year = years.max()\n",
    "\n",
    "# Generate a range of years with a step of 5\n",
    "years_5_step = range(min_year, max_year + 1, 5)\n",
    "\n",
    "# Plot\n",
    "plt.figure(figsize=(9, 7))\n",
    "plt.barh(yearly_publications['Year-Of-Publication'], yearly_publications['Count'], color='skyblue')\n",
    "plt.xlabel('Number of Publications')\n",
    "plt.ylabel('Year')\n",
    "plt.title('Number of Publications per Year')\n",
    "plt.grid(axis='x', linestyle='--', alpha=0.7)\n",
    "\n",
    "# Set y-ticks to show every 5 years\n",
    "plt.yticks(years_5_step)\n",
    "\n",
    "plt.show()"
   ],
   "outputs": [],
   "execution_count": null
  },
  {
   "cell_type": "code",
   "metadata": {
    "colab": {
     "base_uri": "https://localhost:8080/"
    },
    "id": "VAJIkLknchuw",
    "outputId": "b858986b-7d86-40d1-9ebf-9e3bd850b0de"
   },
   "source": [
    "# Agrupar por 'Author' y contar el número de publicaciones por cada autor\n",
    "author_publications = df_books_cleaned.groupby('Book-Author').size().reset_index(name='Count')\n",
    "\n",
    "# Encontrar el autor con el mayor número de publicaciones\n",
    "most_prolific_author = author_publications.loc[author_publications['Count'].idxmax()]\n",
    "print(most_prolific_author)"
   ],
   "outputs": [],
   "execution_count": null
  },
  {
   "cell_type": "markdown",
   "metadata": {
    "id": "jZn20FEuUo6k"
   },
   "source": [
    "## **2.2 Analiza los orígenes geográficos y la edad de los reseñadores**"
   ]
  },
  {
   "cell_type": "code",
   "metadata": {},
   "source": [
    "# Extraer el país de la columna 'Location'\n",
    "df_users['Country'] = df_users['Location'].apply(lambda x: x.split(',')[-1].strip() if pd.notnull(x) else x)\n",
    "\n",
    "# Mostrar los primeros valores únicos de 'Country'\n",
    "df_users['Country'].unique()"
   ],
   "outputs": [],
   "execution_count": null
  },
  {
   "cell_type": "code",
   "metadata": {},
   "source": [
    "# Estadísticas descriptivas de la edad\n",
    "age_stats = df_users['Age'].describe()\n",
    "age_stats"
   ],
   "outputs": [],
   "execution_count": null
  },
  {
   "cell_type": "code",
   "metadata": {},
   "source": [
    "df_users['Age'].unique()"
   ],
   "outputs": [],
   "execution_count": null
  },
  {
   "cell_type": "code",
   "metadata": {},
   "source": [
    "# Filtrar edades válidas\n",
    "valid_ages = df_users[(df_users['Age'] > 0) & (df_users['Age'] <= 100)]\n",
    "\n",
    "# Mostrar estadísticas de edades válidas\n",
    "valid_age_stats = valid_ages['Age'].describe()\n",
    "valid_age_stats"
   ],
   "outputs": [],
   "execution_count": null
  },
  {
   "metadata": {},
   "cell_type": "code",
   "source": "valid_ages",
   "outputs": [],
   "execution_count": null
  },
  {
   "cell_type": "code",
   "metadata": {},
   "source": [
    "# Histograma de edades\n",
    "plt.figure(figsize=(10, 6))\n",
    "sns.histplot(data=valid_ages, x='Age', bins=30, kde=True)\n",
    "plt.title('Distribución de Edades de los Reseñadores')\n",
    "plt.xlabel('Edad')\n",
    "plt.ylabel('Frecuencia')\n",
    "plt.show()"
   ],
   "outputs": [],
   "execution_count": null
  },
  {
   "cell_type": "code",
   "metadata": {},
   "source": [
    "# Aggregate the user counts by country\n",
    "country_counts = df_users['Country'].value_counts().reset_index()\n",
    "country_counts.columns = ['Country', 'User_Count']\n",
    "\n",
    "# Step 2: Load a world map\n",
    "world = gpd.read_file(gpd.datasets.get_path('naturalearth_lowres'))\n",
    "\n",
    "# Convert country names to lowercase to match with the dataset\n",
    "world['name'] = world['name'].str.lower()\n",
    "\n",
    "# Step 3: Merge the user data with the world map\n",
    "merged = world.merge(country_counts, how='left', left_on='name', right_on='Country')"
   ],
   "outputs": [],
   "execution_count": null
  },
  {
   "cell_type": "code",
   "metadata": {},
   "source": [
    "# Create the map\n",
    "m = folium.Map(location=[20, 0], zoom_start=2)\n",
    "\n",
    "# Add country data\n",
    "folium.Choropleth(\n",
    "    geo_data=merged,\n",
    "    name='choropleth',\n",
    "    data=merged,\n",
    "    columns=['name', 'User_Count'],\n",
    "    key_on='feature.properties.name',\n",
    "    fill_color='YlGnBu',\n",
    "    fill_opacity=0.7,\n",
    "    line_opacity=0.2,\n",
    "    legend_name='User Count'\n",
    ").add_to(m)\n",
    "\n",
    "# Add a layer control panel to the map\n",
    "folium.LayerControl().add_to(m)\n",
    "\n",
    "# Save map to an HTML file\n",
    "m.save('user_distribution_map.html')\n",
    "# Display the map\n",
    "m"
   ],
   "outputs": [],
   "execution_count": null
  },
  {
   "cell_type": "code",
   "metadata": {},
   "source": [],
   "outputs": [],
   "execution_count": null
  },
  {
   "cell_type": "code",
   "metadata": {},
   "source": [],
   "outputs": [],
   "execution_count": null
  }
 ],
 "metadata": {
  "colab": {
   "provenance": []
  },
  "kernelspec": {
   "display_name": "Python 3 (ipykernel)",
   "name": "python3",
   "language": "python"
  },
  "language_info": {
   "codemirror_mode": {
    "name": "ipython",
    "version": 3
   },
   "file_extension": ".py",
   "mimetype": "text/x-python",
   "name": "python",
   "nbconvert_exporter": "python",
   "pygments_lexer": "ipython3",
   "version": "3.12.3"
  }
 },
 "nbformat": 4,
 "nbformat_minor": 0
}
