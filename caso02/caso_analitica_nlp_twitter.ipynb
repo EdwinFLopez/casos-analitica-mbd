{
 "cells": [
  {
   "cell_type": "markdown",
   "id": "b7a08636",
   "metadata": {},
   "source": [
    "# **Caso de Analítica - NLP Twitter**"
   ]
  },
  {
   "metadata": {},
   "cell_type": "markdown",
   "source": [
    "## Introducción\n",
    "\n",
    "En este Caso 3 debes realizar un análisis sentimental, sintáctico y gramatical de comentarios Twitter. La base de datos la puedes descargar desde eStudy (Caso 3 dataset), la cual contiene un CSV de mensajes enviados a Twitter con las siguientes columnas:\n",
    "\n",
    "1. Puntuación sentimental o polaridad (-5 = negativa ... 0 = neutral ... 5 = positiva) (por calcular)\n",
    "2. Id del tweet\n",
    "3. Fecha del tweet (Sat May 16 23:58:44 UTC 2009)\n",
    "4. Búsqueda. Si no hay búsqueda, el valor es NO_QUERY\n",
    "5. Usuario que ha tweeteado\n",
    "6. Texto del tweet\n",
    "\n",
    "Con estos datos se os propone que apliquéis técnicas analíticas y de visualización para responder a las siguientes preguntas. No hay restricciones acerca de las técnicas ni tecnologías a utilizar siempre y cuando los resultados sean reproducibles y estén debidamente justificados. No obstante, las siguientes librerías y códigos de ejemplo os pueden ser muy útiles para responderlas:\n",
    "\n",
    "> **_Librería NLTK:_** [https://www.nltk.org/install.html]()\n",
    ">  \n",
    "> **Propósito**: \n",
    "> Trabajar con datos en lenguaje humano.\n",
    "\n",
    "> **_Librería texstat:_** [https://pypi.org/project/textstat]()\n",
    ">  \n",
    "> **Propósito**: \n",
    "> Calcular estadística a partir de datos en lenguaje humano.\n",
    "\n",
    "---\n",
    "\n",
    "### Unsupervised-Text-Clustering using Natural Language Processing (NLP)\n",
    "\n",
    "Para realizar un conglomerado analítico de un corpus documental/textos se acostumbra a seguir los siguientes pasos genéricos. La técnica consiste en crear un vector cuantitativo a partir de los textos, previa limpieza y transformación, para aplicar técnicas de conglomerado:\n",
    "\n",
    "1. Eliminar caracteres de puntuación, espacios adicionales, dígitos u otros caracteres que puedan entorpecer el análisis textual\n",
    "2. Tokenizar y eliminar Stopwords. Se requiere un diccionario de palabras para quitar aquellas que puedan entorpecer el análisis textual. Por ejemplo, se puede utilizar **“from nltk.corpus import stopwords”. Ejemplo: NLTK stop words - Python Tutorial (pythonspot.com)**\n",
    "3. Encontrar la raíz de las palabras aplicando **lemmatization o stemming**.\n",
    "4. Aplicar vectorizado del tokenizado para calcular apariciones de los tokens y cuantificar los tweets. Se pueden usar distintos cálculos, por ejemplo **Bag-of-Words, Word2Vec, o TFIDF** con **“from\n",
    "sklearn.feature_extraction.text import TfidfVectorizer”**\n",
    "5. Aplicar clustering con técnicas adecuadas. Por ejemplo, Kmeans previo cálculo del número de clusters con técnicas como Elbow.\n",
    "\n",
    "---\n",
    "\n",
    "### Análisis de sentimientos en Python - Transformers\n",
    "Huggingface pone a disposición una manera muy asequible de realizar análisis sentimentales con modelos pre-entrenados. \n",
    "\n",
    "Sigue estos dos enlaces para poder realizar las preguntas extras del caso:\n",
    "1. [Getting Started with Sentiment Analysis using Python](https://huggingface.co/blog/sentiment-analysis-python) \n",
    "2. [Pipelines](https://huggingface.co/docs/transformers/main_classes/pipelines)\n",
    "\n",
    "---\n"
   ],
   "id": "22eb88c06501c040"
  },
  {
   "metadata": {},
   "cell_type": "code",
   "source": [
    "# Librerías\n",
    "import pandas as pd\n",
    "\n",
    "from caso02.descomprimir_dataset import unzip_dataset"
   ],
   "id": "initial_id",
   "outputs": [],
   "execution_count": null
  },
  {
   "metadata": {},
   "cell_type": "code",
   "source": [
    "# Carga de datos\n",
    "# Cargar dataset y descomprimir en /datos\n",
    "csv_dataset_path = unzip_dataset()\n",
    "tweets_df = pd.read_csv(csv_dataset_path)\n",
    "tweets_df.describe()\n",
    "\n",
    "# Procesamiento del dataframe\n"
   ],
   "id": "586b8c81bbfcc109",
   "outputs": [],
   "execution_count": null
  },
  {
   "metadata": {},
   "cell_type": "code",
   "source": "# Otros Códigos\n",
   "id": "9de5b053e6aeaf8f",
   "outputs": [],
   "execution_count": null
  },
  {
   "metadata": {},
   "cell_type": "markdown",
   "source": [
    "---\n",
    "\n",
    "## Análisis"
   ],
   "id": "f58f3eaa405084f3"
  },
  {
   "metadata": {},
   "cell_type": "markdown",
   "source": [
    "### 1. ¿Cuál es la distribución de las polaridades y complejidad de lectura/escritura de los tweets en el dataset?\n",
    "\n",
    "#### 1.a. ¿Hay una mayor cantidad de tweets positivos, negativos o neutrales?\n",
    "\n",
    "#### 1.b. ¿Cómo se relacionan las distintas polaridades según la complejidad de lectura/escritura de los tweets?"
   ],
   "id": "7fe5a1ac6466749d"
  },
  {
   "metadata": {},
   "cell_type": "code",
   "source": [
    "# Respuesta\n",
    "print(\"Respuestas\")"
   ],
   "id": "12ef9e4b76081904",
   "outputs": [],
   "execution_count": null
  },
  {
   "metadata": {},
   "cell_type": "markdown",
   "source": "### 2. ¿Existen patrones gramaticales o sintácticos comunes en los tweets con polaridad positiva o negativa? Por ejemplo, puede que los tweets positivos tiendan a utilizar más palabras de agradecimiento o elogios, mientras que los tweets negativos utilizan más palabras de crítica o enojo.",
   "id": "78bad1a751968c25"
  },
  {
   "metadata": {},
   "cell_type": "code",
   "source": [
    "# Respuesta\n",
    "print(\"Respuestas\")"
   ],
   "id": "2f2b7d68a71f23cd",
   "outputs": [],
   "execution_count": null
  },
  {
   "metadata": {},
   "cell_type": "markdown",
   "source": "### 3.  ¿Qué usuarios tienden a generar tweets con una polaridad más positiva o negativa? ¿Hay alguna relación entre la polaridad de los tweets y el número de seguidores de un usuario?",
   "id": "f628391a40fe7710"
  },
  {
   "metadata": {},
   "cell_type": "code",
   "source": [
    "# Respuesta\n",
    "print(\"Respuestas\")"
   ],
   "id": "a7268c8847567786",
   "outputs": [],
   "execution_count": null
  },
  {
   "metadata": {},
   "cell_type": "markdown",
   "source": [
    "### 4. ¿Hay alguna palabra o conjunto de palabras específicas que estén asociadas con tweets de polaridad extrema?\n",
    "\n",
    "#### 4.a. ¿Estas palabras son más comunes en tweets sobre un tema en particular o están distribuidas en todo el dataset?\n",
    "\n",
    "#### 4.b. Escoge un tema y clusteriza los usuarios según polaridades."
   ],
   "id": "b6b66c3946de5df0"
  },
  {
   "metadata": {},
   "cell_type": "code",
   "source": [
    "# Respuesta\n",
    "print(\"Respuestas\")"
   ],
   "id": "1d503f8a973fccc9",
   "outputs": [],
   "execution_count": null
  },
  {
   "metadata": {},
   "cell_type": "markdown",
   "source": [
    "### 5. ¿Hay alguna correlación entre la polaridad de un tweet y la fecha en que se publicó?\n",
    "\n",
    "#### 5.a. ¿Los tweets publicados durante ciertos períodos de tiempo tienden a ser más positivos o negativos que otros?"
   ],
   "id": "14e1e3a28d838f58"
  },
  {
   "metadata": {},
   "cell_type": "code",
   "source": [
    "# Respuesta\n",
    "print(\"Respuestas\")"
   ],
   "id": "dbccba39f5e74d3c",
   "outputs": [],
   "execution_count": null
  },
  {
   "metadata": {},
   "cell_type": "markdown",
   "source": "### 6. Identifica los \"Top 10 Trolls\" y los \"Top 10 Influencers\". Justifica las características de un usuario Troll e Influencer.",
   "id": "e7f23ef4bf2074d4"
  },
  {
   "metadata": {},
   "cell_type": "code",
   "source": [
    "# Respuesta\n",
    "print(\"Respuestas\")"
   ],
   "id": "64660643eb5308df",
   "outputs": [],
   "execution_count": null
  },
  {
   "metadata": {},
   "cell_type": "markdown",
   "source": "### 7. Extra: Utiliza Transformers con el pipeline de Huggingface para calcular la polaridad de los tweets y comparar los resultados de la pregunta 1.",
   "id": "1f17a8a2d03c9a1d"
  },
  {
   "metadata": {},
   "cell_type": "code",
   "source": [
    "# Respuesta\n",
    "print(\"Respuestas\")"
   ],
   "id": "e423d5f5f22875",
   "outputs": [],
   "execution_count": null
  },
  {
   "metadata": {},
   "cell_type": "markdown",
   "source": [
    "---\n",
    "\n",
    "## Visualización"
   ],
   "id": "539273f6712890cb"
  },
  {
   "metadata": {},
   "cell_type": "markdown",
   "source": "### 1. ¿Cómo se distribuyen los tweets según su polaridad a lo largo del tiempo?",
   "id": "7c70e1e73486a63e"
  },
  {
   "metadata": {},
   "cell_type": "code",
   "source": [
    "# Respuesta\n",
    "print(\"Respuestas\")"
   ],
   "id": "bb41765e4896664d",
   "outputs": [],
   "execution_count": null
  },
  {
   "metadata": {},
   "cell_type": "markdown",
   "source": "### 2. Visualiza el análisis sintáctico (número de palabras, frase, verbos, nombres...) de los top 10 Trolls e Influencers.",
   "id": "dc9d2d0721f24a61"
  },
  {
   "metadata": {},
   "cell_type": "code",
   "source": [
    "# Respuesta\n",
    "print(\"Respuestas\")"
   ],
   "id": "d4b861e3498abd2",
   "execution_count": null,
   "outputs": []
  },
  {
   "metadata": {},
   "cell_type": "markdown",
   "source": "### 3. ¿Existe alguna correlación entre el número de seguidores de un usuario y la polaridad de sus tweets? Representa visualmente esta relación.",
   "id": "8ee0e1e923f228f5"
  },
  {
   "metadata": {},
   "cell_type": "code",
   "source": [
    "# Respuesta\n",
    "print(\"Respuestas\")"
   ],
   "id": "32d06e566272841",
   "outputs": [],
   "execution_count": null
  },
  {
   "metadata": {},
   "cell_type": "markdown",
   "source": "### 4. Crea una nube de palabras para cada polaridad.",
   "id": "f28e12a33c7b081d"
  },
  {
   "metadata": {},
   "cell_type": "code",
   "source": [
    "# Respuesta\n",
    "print(\"Respuestas\")"
   ],
   "id": "2d39a83bb792305c",
   "outputs": [],
   "execution_count": null
  },
  {
   "metadata": {},
   "cell_type": "markdown",
   "source": "### 5. ¿Cómo se distribuyen los tweets según su polaridad en función de la hora del día o el día de la semana?",
   "id": "4ec20d3130a9cacd"
  },
  {
   "metadata": {},
   "cell_type": "code",
   "source": [
    "# Respuesta\n",
    "print(\"Respuestas\")"
   ],
   "id": "5d525dce757ae44",
   "outputs": [],
   "execution_count": null
  }
 ],
 "metadata": {
  "kernelspec": {
   "display_name": "Python 3",
   "language": "python",
   "name": "python3"
  },
  "language_info": {
   "codemirror_mode": {
    "name": "ipython",
    "version": 2
   },
   "file_extension": ".py",
   "mimetype": "text/x-python",
   "name": "python",
   "nbconvert_exporter": "python",
   "pygments_lexer": "ipython2",
   "version": "2.7.6"
  }
 },
 "nbformat": 4,
 "nbformat_minor": 5
}
