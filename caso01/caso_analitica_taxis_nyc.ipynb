{
 "cells": [
  {
   "cell_type": "markdown",
   "metadata": {
    "id": "_Y1ZWOA0QIVj"
   },
   "source": [
    "# **PRIMERA PARTE: ANÁLISIS CUANTITATIVO.**"
   ]
  },
  {
   "cell_type": "code",
   "execution_count": 98,
   "metadata": {
<<<<<<< Updated upstream
=======
    "ExecuteTime": {
     "end_time": "2024-05-06T14:57:28.723312Z",
     "start_time": "2024-05-06T14:57:22.954325Z"
    },
>>>>>>> Stashed changes
    "id": "AD1BgTRo-0Jy"
   },
   "outputs": [],
   "source": [
    "#Librerías\n",
    "import numpy as np\n",
    "import pandas as pd\n",
    "import seaborn as sns\n",
    "import matplotlib.pyplot as plt\n",
    "import geopandas as gpd\n",
    "import os\n",
    "from shapely.geometry import Point\n",
    "\n",
    "import requests\n",
    "import zipfile\n",
    "import io\n",
    "\n",
    "# Datafiles URLs\n",
    "url_greentd_202312 = \"https://d37ci6vzurychx.cloudfront.net/trip-data/green_tripdata_2023-12.parquet\"\n",
    "url_greentd_202311 = \"https://d37ci6vzurychx.cloudfront.net/trip-data/green_tripdata_2023-11.parquet\"\n",
    "url_yellowtd_202312 = \"https://d37ci6vzurychx.cloudfront.net/trip-data/yellow_tripdata_2023-12.parquet\"\n",
    "url_yellowtd_202311 = \"https://d37ci6vzurychx.cloudfront.net/trip-data/yellow_tripdata_2023-11.parquet\"\n",
    "url_nyc_zones = \"https://data.cityofnewyork.us/api/views/755u-8jsi/rows.csv?accessType=DOWNLOAD\"\n",
    "url_taxi_zone_lu = \"https://d37ci6vzurychx.cloudfront.net/misc/taxi_zone_lookup.csv\"\n",
    "url_taxi_zones_zip = \"https://d37ci6vzurychx.cloudfront.net/misc/taxi_zones.zip\"\n",
    "\n",
    "# Download data files\n",
    "df_green_trip_december = pd.read_parquet(url_greentd_202312, engine='pyarrow')\n",
    "df_green_trip_november = pd.read_parquet(url_greentd_202311, engine='pyarrow')\n",
    "df_yellow_trip_december = pd.read_parquet(url_yellowtd_202312, engine='pyarrow')\n",
    "df_yellow_trip_november = pd.read_parquet(url_yellowtd_202311, engine='pyarrow')\n",
    "df_map_taxi_lookup = pd.read_csv(url_taxi_zone_lu, delimiter=',')\n",
    "df_nyc_zones = pd.read_csv(url_nyc_zones)\n",
    "\n",
    "# Download taxi shape files\n",
    "rq = requests.get(url_taxi_zones_zip)\n",
    "\n",
    "# Unzip shape files\n",
    "taxi_zones_path = os.path.abspath(\"./data/taxi_zones\")\n",
    "z = zipfile.ZipFile(io.BytesIO(rq.content))\n",
    "z.extractall(taxi_zones_path)\n",
    "\n",
    "# Load shape file\n",
    "df_taxi_zone_shp = gpd.read_file(f\"{taxi_zones_path}/taxi_zones.shp\")\n",
    "\n",
    "# Inspect shape files and taxi zones samples\n",
    "print(df_taxi_zone_shp.shape)\n",
    "print(df_taxi_zone_shp.head(10))\n",
    "\n",
    "print(df_nyc_zones.shape)\n",
    "print(df_nyc_zones.head(10))\n",
    "\n",
    "# Join shape file and taxi zones files since geometry in shapefile is not lat-lon.\n",
    "df_taxi_shapes = df_taxi_zone_shp.set_index('LocationID').join(\n",
    "                    other=df_nyc_zones.set_index('LocationID'), on='LocationID',\n",
    "                    how='inner', lsuffix='_shp', rsuffix='_zones'\n",
    "                ).join(\n",
    "                    other=df_map_taxi_lookup.set_index('LocationID'), on='LocationID',\n",
    "                    how='right', rsuffix='_lut'\n",
    "                )\n",
    "\n",
    "print(df_taxi_shapes.shape)\n",
    "print(df_taxi_shapes.columns)"
<<<<<<< Updated upstream
   ],
   "outputs": [],
   "execution_count": null
  },
  {
   "metadata": {},
   "cell_type": "code",
   "source": [
    "df_taxi_shapes.dropna(inplace=True)\n",
    "df_taxi_shapes"
   ],
   "outputs": [],
   "execution_count": null
=======
   ]
  },
  {
   "cell_type": "code",
   "execution_count": 99,
   "metadata": {
    "ExecuteTime": {
     "end_time": "2024-05-06T14:57:45.217736Z",
     "start_time": "2024-05-06T14:57:45.203678Z"
    }
   },
   "outputs": [],
   "source": [
    "df_taxi_shapes.dropna(inplace=True)\n",
    "df_taxi_shapes"
   ]
>>>>>>> Stashed changes
  },
  {
   "cell_type": "markdown",
   "metadata": {},
   "source": [
    "## Ajustamos las columnas del dataset de shapes definitivo\n"
   ]
  },
  {
<<<<<<< Updated upstream
   "metadata": {},
   "cell_type": "code",
=======
   "cell_type": "code",
   "execution_count": 100,
   "metadata": {
    "ExecuteTime": {
     "end_time": "2024-05-06T14:57:51.838589Z",
     "start_time": "2024-05-06T14:57:51.831995Z"
    }
   },
   "outputs": [],
>>>>>>> Stashed changes
   "source": [
    "print(df_taxi_shapes.columns)\n",
    "columns_to_remove = [\n",
    "    'OBJECTID_shp', 'Shape_Leng_shp', 'Shape_Area_shp', 'zone_shp', 'borough_shp', 'geometry',\n",
    "    'OBJECTID_zones', 'borough_zones', 'zone_zones'\n",
    "]\n",
    "columns_to_rename = {\n",
    "    'Shape_Leng_zones': 'Shape_Leng',\n",
    "    'Shape_Area_zones': 'Shape_Area',\n",
    "    'the_geom': 'geometry'\n",
    "}\n",
    "df_taxi_shapes.drop(columns=columns_to_remove, inplace=True)\n",
    "df_taxi_shapes.rename(columns=columns_to_rename, inplace=True)\n",
    "\n",
    "# Renombramos las columnas a minusculas \n",
    "df_taxi_shapes.columns = df_taxi_shapes.columns.str.lower()"
<<<<<<< Updated upstream
   ],
   "outputs": [],
   "execution_count": null
=======
   ]
>>>>>>> Stashed changes
  },
  {
   "cell_type": "markdown",
   "metadata": {
    "id": "hM9tnci-J4OT"
   },
   "source": [
    "## Visualizamos los datasets"
   ]
  },
  {
<<<<<<< Updated upstream
   "metadata": {},
   "cell_type": "code",
   "source": [
    "df_taxi_shapes.rename(columns={'locationid': 'LocationID'}, inplace=True)\n",
    "df_taxi_shapes.set_index('LocationID', inplace=True)"
   ],
   "outputs": [],
   "execution_count": null
  },
  {
   "metadata": {},
   "cell_type": "code",
   "source": "df_taxi_shapes",
   "outputs": [],
   "execution_count": null
=======
   "cell_type": "code",
   "execution_count": 104,
   "metadata": {
    "ExecuteTime": {
     "end_time": "2024-05-06T15:01:39.117688Z",
     "start_time": "2024-05-06T15:01:39.107819Z"
    }
   },
   "outputs": [],
   "source": [
    "df_taxi_shapes.rename(columns={'locationid': 'LocationID'}, inplace=True)\n",
    "df_taxi_shapes.set_index('LocationID', inplace=True)"
   ]
  },
  {
   "cell_type": "code",
   "execution_count": 105,
   "metadata": {
    "ExecuteTime": {
     "end_time": "2024-05-06T15:01:57.291931Z",
     "start_time": "2024-05-06T15:01:57.284446Z"
    }
   },
   "outputs": [],
   "source": [
    "df_taxi_shapes"
   ]
>>>>>>> Stashed changes
  },
  {
   "cell_type": "code",
   "execution_count": 106,
   "metadata": {
    "ExecuteTime": {
     "end_time": "2024-05-06T15:02:37.823344Z",
     "start_time": "2024-05-06T15:02:37.813148Z"
    },
    "colab": {
     "base_uri": "https://localhost:8080/",
     "height": 443
    },
    "id": "xMmM-TGX_XS_",
    "outputId": "a7024dd0-d923-4b06-d892-fec2ce6b26bc"
   },
<<<<<<< Updated upstream
   "source": "df_green_trip_december",
   "outputs": [],
   "execution_count": null
=======
   "outputs": [],
   "source": [
    "df_Green_Trip_December"
   ]
>>>>>>> Stashed changes
  },
  {
   "cell_type": "code",
   "execution_count": 107,
   "metadata": {
    "ExecuteTime": {
     "end_time": "2024-05-06T15:02:42.818725Z",
     "start_time": "2024-05-06T15:02:42.808179Z"
    },
    "colab": {
     "base_uri": "https://localhost:8080/",
     "height": 443
    },
    "id": "Ml3dT8YxBDJN",
    "outputId": "a3bd489b-2660-43ef-9b76-b270509604ff"
   },
<<<<<<< Updated upstream
   "source": "df_yellow_trip_december",
   "outputs": [],
   "execution_count": null
=======
   "outputs": [],
   "source": [
    "df_Yellow_Trip_December"
   ]
>>>>>>> Stashed changes
  },
  {
   "cell_type": "code",
   "execution_count": 6,
   "metadata": {
    "ExecuteTime": {
     "end_time": "2024-04-27T22:22:14.946585Z",
     "start_time": "2024-04-27T22:22:14.941790Z"
    },
    "colab": {
     "base_uri": "https://localhost:8080/",
     "height": 423
    },
    "id": "xjoBYEz-J1uR",
    "outputId": "46d387b3-fe16-408a-ce7d-a4d18de99240"
   },
<<<<<<< Updated upstream
   "source": "df_map_taxi_lookup",
   "outputs": [],
   "execution_count": null
=======
   "outputs": [],
   "source": [
    "df_map_taxi_lookup"
   ]
>>>>>>> Stashed changes
  },
  {
   "cell_type": "markdown",
   "metadata": {
    "id": "araFg13PTpLx"
   },
   "source": [
    "## Validamos la distribución de los datos y los tipos de datos en cada dataset"
   ]
  },
  {
   "cell_type": "code",
   "execution_count": 108,
   "metadata": {
    "ExecuteTime": {
     "end_time": "2024-05-06T15:03:10.414581Z",
     "start_time": "2024-05-06T15:03:10.411765Z"
    },
    "colab": {
     "base_uri": "https://localhost:8080/"
    },
    "id": "8Fc6pWFzTo-Y",
    "outputId": "228d77e8-154f-48ef-f2be-25758ac3728c"
   },
   "outputs": [],
   "source": [
    "#Tipos de Valores por Columna Green Trips\n",
<<<<<<< Updated upstream
    "df_green_trip_december.dtypes"
   ],
   "outputs": [],
   "execution_count": null
=======
    "df_Green_Trip_December.dtypes"
   ]
>>>>>>> Stashed changes
  },
  {
   "cell_type": "code",
   "execution_count": 8,
   "metadata": {
    "ExecuteTime": {
     "end_time": "2024-04-27T22:22:52.952328Z",
     "start_time": "2024-04-27T22:22:52.949044Z"
    },
    "colab": {
     "base_uri": "https://localhost:8080/"
    },
    "id": "wZ7n2D5-UMy3",
    "outputId": "e096c6a1-6c94-405c-f581-92c40cbd146f"
   },
   "outputs": [],
   "source": [
    "#Tipos de Valores por Columna Yellow Trips\n",
<<<<<<< Updated upstream
    "df_yellow_trip_december.dtypes"
   ],
   "outputs": [],
   "execution_count": null
=======
    "df_Yellow_Trip_December.dtypes"
   ]
>>>>>>> Stashed changes
  },
  {
   "cell_type": "code",
   "execution_count": 109,
   "metadata": {
    "ExecuteTime": {
     "end_time": "2024-05-06T15:03:23.330545Z",
     "start_time": "2024-05-06T15:03:23.319625Z"
    },
    "colab": {
     "base_uri": "https://localhost:8080/"
    },
    "id": "i3-Xa19rUZH-",
    "outputId": "2eff1146-f885-46f4-96d6-696709aa9581"
   },
   "outputs": [],
   "source": [
<<<<<<< Updated upstream
    "#Validamos la distribución de los datos del green df\n",
    "df_green_trip_december['total_amount'].describe()"
   ],
   "outputs": [],
   "execution_count": null
=======
    "#Validamos la distribución de los datos\n",
    "df_Green_Trip_December['total_amount'].describe()"
   ]
>>>>>>> Stashed changes
  },
  {
   "cell_type": "code",
   "execution_count": 10,
   "metadata": {
    "ExecuteTime": {
     "end_time": "2024-04-27T22:23:41.562591Z",
     "start_time": "2024-04-27T22:23:41.464351Z"
    },
    "colab": {
     "base_uri": "https://localhost:8080/"
    },
    "id": "s00ypz0rU53T",
    "outputId": "4f9fa20a-dbe6-47de-8481-ad8a780d027b"
   },
   "outputs": [],
   "source": [
<<<<<<< Updated upstream
    "#Validamos la distribución de los datos del yellow df.\n",
    "df_yellow_trip_december['total_amount'].describe()"
   ],
   "outputs": [],
   "execution_count": null
=======
    "#Validamos la distribución de los datos\n",
    "df_Yellow_Trip_December['total_amount'].describe()"
   ]
>>>>>>> Stashed changes
  },
  {
   "cell_type": "markdown",
   "metadata": {
    "id": "YN5GVJ7-G6HE"
   },
   "source": [
    "## Verificamos si tienen las mismas columnas"
   ]
  },
  {
   "cell_type": "code",
   "execution_count": 110,
   "metadata": {
    "ExecuteTime": {
     "end_time": "2024-05-06T15:03:46.236210Z",
     "start_time": "2024-05-06T15:03:46.233873Z"
    },
    "colab": {
     "base_uri": "https://localhost:8080/"
    },
    "id": "QvDTie2NGi1A",
    "outputId": "4968e9b3-f6cb-46b1-83fa-8a12368d6e8d"
   },
   "outputs": [],
   "source": [
    "dataframes = [df_green_trip_december, df_green_trip_november]\n",
    "\n",
    "all([len(dataframes[0].columns.intersection(df.columns))\n",
    "      == dataframes[0].shape[1] for df in dataframes])\n",
    "\n",
    "if all([set(dataframes[0].columns) == set(df.columns) for df in dataframes]):\n",
    "    print('Tienen las mismas columnas')\n",
    "else:\n",
    "    print('Algunas columnas son distintas')"
<<<<<<< Updated upstream
   ],
   "outputs": [],
   "execution_count": null
=======
   ]
>>>>>>> Stashed changes
  },
  {
   "cell_type": "markdown",
   "metadata": {
    "id": "6f97A12JElY1"
   },
   "source": [
    "## Identificamos cuántos datos NaN hay en el Dataset"
   ]
  },
  {
   "cell_type": "code",
   "execution_count": 117,
   "metadata": {
    "ExecuteTime": {
     "end_time": "2024-05-06T15:18:16.413383Z",
     "start_time": "2024-05-06T15:18:16.405772Z"
    },
    "colab": {
     "base_uri": "https://localhost:8080/"
    },
    "id": "-VEeiObFFM3I",
    "outputId": "c3df18d3-4b60-49de-afa1-11e12146def3"
   },
   "outputs": [],
   "source": [
    "#Cuantos NaN hay por columna en el dataset de Green Trip\n",
    "nan_df_Green = df_green_trip_december.isna().size()\n",
    "print(nan_df_Green)"
<<<<<<< Updated upstream
   ],
   "outputs": [],
   "execution_count": null
=======
   ]
>>>>>>> Stashed changes
  },
  {
   "cell_type": "code",
   "execution_count": 112,
   "metadata": {
    "ExecuteTime": {
     "end_time": "2024-05-06T15:04:30.598406Z",
     "start_time": "2024-05-06T15:04:30.510226Z"
    },
    "colab": {
     "base_uri": "https://localhost:8080/"
    },
    "id": "N1gJhdFQFV4M",
    "outputId": "34578b7a-c4c0-4838-cd47-c727b32471c5"
   },
   "outputs": [],
   "source": [
    "#Cuantos NaN hay por columna en el dataset de Yellow Trip\n",
    "nan_df_Yellow = df_yellow_trip_december.isna().size()\n",
    "print(nan_df_Yellow)"
<<<<<<< Updated upstream
   ],
   "outputs": [],
   "execution_count": null
=======
   ]
>>>>>>> Stashed changes
  },
  {
   "cell_type": "markdown",
   "metadata": {
    "id": "vjLM-04hVIAw"
   },
   "source": [
    "## Validamos las columnas de cada Dataset"
   ]
  },
  {
   "cell_type": "code",
   "execution_count": 113,
   "metadata": {
    "ExecuteTime": {
     "end_time": "2024-05-06T15:05:26.904080Z",
     "start_time": "2024-05-06T15:05:26.901239Z"
    },
    "colab": {
     "base_uri": "https://localhost:8080/"
    },
    "id": "svhCBSoMVK9K",
    "outputId": "6715282b-c5ae-4828-f1d6-f63d6df8698f"
   },
   "outputs": [],
   "source": [
    "#Obtenmos los nombres de las columnas de ambos DataFrames\n",
    "columnas_green = set(df_green_trip_december.columns)\n",
    "columnas_yellow = set(df_yellow_trip_december.columns)\n",
    "\n",
    "diff_green_not_in_yellow = columnas_green - columnas_yellow\n",
    "diff_yellow_not_in_green = columnas_yellow - columnas_green\n",
    "\n",
    "if diff_green_not_in_yellow or diff_yellow_not_in_green:\n",
    "    print(\"Diferencias encontradas:\")\n",
    "    if diff_green_not_in_yellow:\n",
    "        print(\"Columnas en Green pero no en Yellow:\", diff_green_not_in_yellow)\n",
    "    if diff_yellow_not_in_green:\n",
    "        print(\"Columnas en Yellow pero no en Green:\", diff_yellow_not_in_green)\n",
    "else:\n",
    "    print(\"Los DataFrames tienen las mismas columnas.\")"
<<<<<<< Updated upstream
   ],
   "outputs": [],
   "execution_count": null
=======
   ]
>>>>>>> Stashed changes
  },
  {
   "cell_type": "markdown",
   "metadata": {
    "id": "D-1RM4iwKDn6"
   },
<<<<<<< Updated upstream
   "source": "## Trazamos los datasets para visualizar los datos"
=======
   "source": [
    "## Ploteamos los datasets para visualizar los datos"
   ]
>>>>>>> Stashed changes
  },
  {
   "cell_type": "code",
   "execution_count": 114,
   "metadata": {
    "ExecuteTime": {
     "end_time": "2024-05-06T15:07:12.006665Z",
     "start_time": "2024-05-06T15:07:10.787269Z"
    },
    "colab": {
     "base_uri": "https://localhost:8080/",
     "height": 1000
    },
    "id": "dp0cknAxc4ER",
    "outputId": "9689f4e3-f7e9-470b-987e-812f5b2ffdc7"
   },
   "outputs": [],
   "source": [
<<<<<<< Updated upstream
    "from caso01.plots import plot_histograma_df\n",
    "\n",
    "plot_histograma_df(df_green_trip_december, 'black', 'darkorchid')\n",
    "\n",
    "#for column in df_green_trip_december.columns:\n",
    "#    if pd.api.types.is_numeric_dtype(df_green_trip_december[column]):\n",
    "#        plt.figure(figsize=(10, 4))\n",
    "#        plt.hist(df_green_trip_december[column].dropna(), bins=30, edgecolor='black', color='darkorchid')\n",
    "#        plt.title(f'Histograma de {column}')\n",
    "#        plt.xlabel('Valor')\n",
    "#        plt.ylabel('Frecuencia')\n",
    "#        plt.grid(True)\n",
    "#        plt.show()"
   ],
   "outputs": [],
   "execution_count": null
=======
    "for column in df_Green_Trip_December.columns:\n",
    "    if pd.api.types.is_numeric_dtype(df_Green_Trip_December[column]):\n",
    "        plt.figure(figsize=(10, 4))\n",
    "        plt.hist(df_Green_Trip_December[column].dropna(), bins=30, edgecolor='black', color='darkorchid')\n",
    "        plt.title(f'Histograma de {column}')\n",
    "        plt.xlabel('Valor')\n",
    "        plt.ylabel('Frecuencia')\n",
    "        plt.grid(True)\n",
    "        plt.show()"
   ]
>>>>>>> Stashed changes
  },
  {
   "cell_type": "code",
   "execution_count": 115,
   "metadata": {
    "ExecuteTime": {
     "end_time": "2024-05-06T15:07:33.959786Z",
     "start_time": "2024-05-06T15:07:32.154417Z"
    },
    "colab": {
     "base_uri": "https://localhost:8080/",
     "height": 1000
    },
    "id": "950djXg3fr5Y",
    "outputId": "177fca33-ef4c-452f-c6c3-150e96f5ba95"
   },
   "outputs": [],
   "source": [
<<<<<<< Updated upstream
    "plot_histograma_df(df_yellow_trip_december, 'black', 'violet')\n",
    "\n",
    "#for column in df_yellow_trip_december.columns:\n",
    "#    if pd.api.types.is_numeric_dtype(df_yellow_trip_december[column]):\n",
    "#        plt.figure(figsize=(10, 4))\n",
    "#        plt.hist(df_yellow_trip_december[column].dropna(), bins=30, edgecolor='black', color='violet')\n",
    "#        plt.title(f'Histograma de {column}')\n",
    "#        plt.xlabel('Valor')\n",
    "#        plt.ylabel('Frecuencia')\n",
    "#        plt.grid(True)\n",
    "#        plt.show()"
   ],
   "outputs": [],
   "execution_count": null
=======
    "for column in df_Yellow_Trip_December.columns:\n",
    "    if pd.api.types.is_numeric_dtype(df_Yellow_Trip_December[column]):\n",
    "        plt.figure(figsize=(10, 4))\n",
    "        plt.hist(df_Yellow_Trip_December[column].dropna(), bins=30, edgecolor='black', color='violet')\n",
    "        plt.title(f'Histograma de {column}')\n",
    "        plt.xlabel('Valor')\n",
    "        plt.ylabel('Frecuencia')\n",
    "        plt.grid(True)\n",
    "        plt.show()"
   ]
>>>>>>> Stashed changes
  },
  {
   "cell_type": "code",
   "execution_count": 13,
   "metadata": {
    "ExecuteTime": {
     "end_time": "2024-04-27T22:25:39.893716Z",
     "start_time": "2024-04-27T22:25:39.736780Z"
    },
    "colab": {
     "base_uri": "https://localhost:8080/",
     "height": 506
    },
    "id": "QoH8fhFVVq19",
    "outputId": "d2798c36-3fdd-413a-a67b-36114668e2c7"
   },
   "outputs": [],
   "source": [
    "from caso01.plots import plot_boxplot_df\n",
    "plot_boxplot_df(df_green_trip_december, 'Boxplot de \"Total Amount\" en Green Trip', 'total_amount')\n",
    "\n",
<<<<<<< Updated upstream
    "#plt.figure(figsize=(20, 10))\n",
    "#sns.boxplot(data=df_green_trip_december['total_amount'], orient=\"h\")\n",
    "#plt.title('Boxplot de \"Total Amount\" en Green Trip')\n",
    "#plt.xlabel('Valores')\n",
    "#plt.grid(True)\n",
    "#plt.show()"
   ],
   "outputs": [],
   "execution_count": null
=======
    "plt.title('Boxplot de \"Total Amount\" en Green Trip')\n",
    "plt.xlabel('Valores')\n",
    "plt.grid(True)\n",
    "plt.show()"
   ]
>>>>>>> Stashed changes
  },
  {
   "cell_type": "markdown",
   "metadata": {
    "id": "wuKfm0rwgBVD"
   },
   "source": [
    "# Normalizamos Nombres de Columnas"
   ]
  },
  {
   "cell_type": "code",
   "execution_count": 116,
   "metadata": {
<<<<<<< Updated upstream
=======
    "ExecuteTime": {
     "end_time": "2024-05-06T15:09:33.651071Z",
     "start_time": "2024-05-06T15:09:33.648906Z"
    },
>>>>>>> Stashed changes
    "id": "mBf0V5jggA_u"
   },
   "outputs": [],
   "source": [
    "dfs = [df_green_trip_december, df_green_trip_november, df_yellow_trip_december, df_yellow_trip_november]\n",
    "dfs[2].columns = dfs[3].columns = [\n",
    "    'vendorid', 'lpep_pickup_datetime', 'lpep_dropoff_datetime',\n",
    "    'passenger_count', 'trip_distance', 'ratecodeid', 'store_and_fwd_flag',\n",
    "    'pulocationid', 'dolocationid', 'payment_type', 'fare_amount', 'extra',\n",
    "    'mta_tax', 'tip_amount', 'tolls_amount', 'improvement_surcharge',\n",
    "    'total_amount', 'congestion_surcharge', 'airport_fee'\n",
    "]"
<<<<<<< Updated upstream
   ],
   "outputs": [],
   "execution_count": null
=======
   ]
>>>>>>> Stashed changes
  },
  {
   "cell_type": "markdown",
   "metadata": {
    "id": "JU84sgoSQw-B"
   },
   "source": [
    "## Preprocesamiento de Datos"
   ]
  },
  {
   "cell_type": "code",
   "execution_count": 118,
   "metadata": {
<<<<<<< Updated upstream
    "id": "e3hlItaoW-cP"
   },
   "source": "",
   "outputs": [],
   "execution_count": null
=======
    "ExecuteTime": {
     "end_time": "2024-05-06T15:22:20.946038Z",
     "start_time": "2024-05-06T15:22:20.941488Z"
    },
    "id": "e3hlItaoW-cP"
   },
   "outputs": [],
   "source": [
    "def limpieza_datos(df):\n",
    "    df['VendorID'] = df['VendorID'].astype(str)\n",
    "    df['lpep_pickup_datetime'] = pd.to_datetime(df['lpep_pickup_datetime'])\n",
    "    df['lpep_dropoff_datetime'] = pd.to_datetime(df['lpep_dropoff_datetime'])\n",
    "\n",
    "    etiquetas = ['N', 'Y', 'n', 'y', 'ys', 'ye', 'no', 'yes']\n",
    "    mapeo = {'N': 0, 'Y': 1, 'n': 0, 'y': 1, 'no': 0, 'yes': 1, 'ye': 1, 'ys': 1}\n",
    "    df['store_and_fwd_flag'] = df['store_and_fwd_flag'].apply(lambda x: mapeo[x] if x in etiquetas else None)\n",
    "    df = df.dropna(subset=['store_and_fwd_flag'])\n",
    "\n",
    "    columnas_id = [\n",
    "        'store_and_fwd_flag', 'RatecodeID', 'PULocationID', 'DOLocationID',\n",
    "        'passenger_count', 'payment_type', 'trip_type'\n",
    "    ]\n",
    "    for col in columnas_id:\n",
    "        try:\n",
    "            df[col] = pd.to_numeric(df[col], errors='coerce').fillna(-1).astype(int)\n",
    "        except Exception as e:\n",
    "            print(f\"Error al procesar la columna {col}: {e}\")\n",
    "\n",
    "    #Listas de tuplas con las columnas con valores negativos o nulos\n",
    "    condiciones = [\n",
    "        ('trip_distance', 0),\n",
    "        ('fare_amount', 0),\n",
    "        ('total_amount', 0),\n",
    "        ('passenger_count', 0),\n",
    "        ('tip_amount', 0)\n",
    "    ]\n",
    "\n",
    "    for columna, valor_minimo in condiciones:\n",
    "        df = df[df[columna] > valor_minimo]\n",
    "\n",
    "    #Listas de tuplas con las columnas con valores negativos o nulos\n",
    "    condiciones_2 = [\n",
    "        ('congestion_surcharge', 0),\n",
    "        ('improvement_surcharge', 0),\n",
    "        ('tolls_amount', 0),\n",
    "        ('tip_amount', 0),\n",
    "        ('extra', 0),\n",
    "        ('mta_tax', 0)\n",
    "    ]\n",
    "\n",
    "    for columna_2, valor_minimo_2 in condiciones_2:\n",
    "        df = df[df[columna_2] > valor_minimo_2]\n",
    "\n",
    "    try:\n",
    "        df['ehail_fee'] = df['ehail_fee'].replace('None', 0).astype(float)\n",
    "    except Exception as e:\n",
    "        print(f\"Se omiten las columnas: {e}\")\n",
    "\n",
    "    #Se eliminan filas duplicadas\n",
    "    df = df.drop_duplicates()\n",
    "\n",
    "    #Eliminamos las filas con el mismo tiempo de recogida y entrega\n",
    "    df = df[df['lpep_pickup_datetime'] != df['lpep_dropoff_datetime']]\n",
    "\n",
    "    return df"
   ]
>>>>>>> Stashed changes
  },
  {
   "cell_type": "markdown",
   "metadata": {
    "id": "MfJZBEn0CtNq"
   },
   "source": [
    "## Merge Datasets de Taxi y Rutas de los Taxis"
   ]
  },
  {
   "cell_type": "code",
   "execution_count": null,
   "metadata": {
    "colab": {
     "base_uri": "https://localhost:8080/",
     "height": 423
    },
    "id": "uuC6ELZZKZHy",
    "outputId": "49a7c5ce-b713-455b-8968-98d89d9662f4"
   },
<<<<<<< Updated upstream
   "source": "df_map_taxi_lookup",
   "outputs": [],
   "execution_count": null
=======
   "outputs": [],
   "source": [
    "df_map_taxi_lookup"
   ]
>>>>>>> Stashed changes
  },
  {
   "cell_type": "code",
   "execution_count": null,
   "metadata": {
    "colab": {
     "base_uri": "https://localhost:8080/",
     "height": 632
    },
    "id": "RpGTEsSaLb6K",
    "outputId": "9b7b2e8e-2129-47a9-9cb9-b337bbf6cdef"
   },
<<<<<<< Updated upstream
   "source": "df_taxi_zone_shp",
   "outputs": [],
   "execution_count": null
=======
   "outputs": [],
   "source": [
    "df_taxi_zone_shp"
   ]
>>>>>>> Stashed changes
  },
  {
   "cell_type": "code",
   "execution_count": null,
   "metadata": {
    "colab": {
     "base_uri": "https://localhost:8080/"
    },
    "id": "UWbBB88yvNx2",
    "outputId": "e5cbece1-cfcb-4bf1-e288-11e5d7b33564"
   },
<<<<<<< Updated upstream
   "source": "df_taxi_zone_shp.columns",
   "outputs": [],
   "execution_count": null
=======
   "outputs": [],
   "source": [
    "df_taxi_zone_shp.columns"
   ]
  },
  {
   "cell_type": "code",
   "execution_count": 24,
   "metadata": {
    "ExecuteTime": {
     "end_time": "2024-04-27T22:35:44.178489Z",
     "start_time": "2024-04-27T22:35:44.175978Z"
    },
    "id": "H6PXS_cQkjjD"
   },
   "outputs": [],
   "source": [
    "def merge_taxi_with_zones(taxi_df, zones_df):\n",
    "    #Se fusionan el dataFrame de taxis con el DataFrame de zonas basado en la columna de ID de ubicación de recogida\n",
    "    merged_df = pd.merge(taxi_df, zones_df, left_on='PULocationID', right_on='LocationID')\n",
    "    merged_df = merged_df.drop(columns='LocationID')\n",
    "    merged_df = merged_df.rename(columns={'Borough': 'PU_borough', 'Zone': 'PU_zone', 'service_zone': 'PU_service_zone'})\n",
    "\n",
    "    #Repetir el proceso para la ubicación de entrega\n",
    "    merged_df = pd.merge(merged_df, zones_df, left_on='DOLocationID', right_on='LocationID')\n",
    "    merged_df = merged_df.drop(columns='LocationID')\n",
    "    merged_df = merged_df.rename(columns={'Borough': 'DO_borough', 'Zone': 'DO_zone', 'service_zone': 'DO_service_zone'})\n",
    "\n",
    "    return merged_df"
   ]
>>>>>>> Stashed changes
  },
  {
   "cell_type": "markdown",
   "metadata": {
    "id": "1vw7RaHlQclu"
   },
   "source": [
    "## **Plot Zonas de Recogida**"
   ]
  },
  {
   "cell_type": "code",
   "execution_count": 25,
   "metadata": {
<<<<<<< Updated upstream
=======
    "ExecuteTime": {
     "end_time": "2024-04-27T22:35:50.485628Z",
     "start_time": "2024-04-27T22:35:50.483325Z"
    },
    "id": "qDSnnV4nQAAd"
   },
   "outputs": [],
   "source": [
    "def plot_pickup_zones(df):\n",
    "    fig, (ax1, ax2) = plt.subplots(1, 2, figsize=(15, 5))\n",
    "    ax1.scatter(df['pickup_longitude'], df['pickup_latitude'], s=0.1)\n",
    "    ax1.set_title('Zonas de Recogida')\n",
    "    ax1.set_xlabel('Longitud')\n",
    "    ax1.set_ylabel('Latitud')\n",
    "    ax2.scatter(df['dropoff_longitude'], df['dropoff_latitude'], s=0.1)\n",
    "    ax2.set_title('Zonas de Llegada')\n",
    "    ax2.set_xlabel('Longitud')\n",
    "    ax2.set_ylabel('Latitud')\n",
    "\n",
    "    plt.show()"
   ]
  },
  {
   "cell_type": "code",
   "execution_count": 26,
   "metadata": {
    "ExecuteTime": {
     "end_time": "2024-04-27T22:36:17.443130Z",
     "start_time": "2024-04-27T22:35:55.651509Z"
    },
>>>>>>> Stashed changes
    "colab": {
     "base_uri": "https://localhost:8080/",
     "height": 1000
    },
    "id": "_VXKb1BXSx6k",
    "outputId": "cb4b2e6d-4b2e-4883-a5b8-e476edda8371"
   },
   "outputs": [],
   "source": [
    "from caso01.limpieza import limpieza_datos\n",
    "from caso01.procesado import merge_taxi_with_zones\n",
    "\n",
    "zones_df = {\n",
    "    'Green_Trip_December' : limpieza_datos(merge_taxi_with_zones(dfs[0], df_taxi_zone_shp)),\n",
    "    'Green_Trip_November' : limpieza_datos(merge_taxi_with_zones(dfs[1], df_taxi_zone_shp)),\n",
    "    'Yellow_Trip_December' : limpieza_datos(merge_taxi_with_zones(dfs[2], df_taxi_zone_shp)),\n",
    "    'Yellow_Trip_November' : limpieza_datos(merge_taxi_with_zones(dfs[3], df_taxi_zone_shp))\n",
    "}\n",
    "\n",
    "zones_df['Green_Trip_December']['origin']  = 'Green_Trip_December'\n",
    "zones_df['Green_Trip_November']['origin']  = 'Green_Trip_November'\n",
    "zones_df['Yellow_Trip_December']['origin'] = 'Yellow_Trip_December'\n",
    "zones_df['Yellow_Trip_November']['origin'] = 'Yellow_Trip_November'\n",
    "\n",
    "merged_df = pd.concat([\n",
    "    zones_df['Green_Trip_December'],\n",
    "    zones_df['Green_Trip_November'],\n",
    "    zones_df['Yellow_Trip_December'],\n",
    "    zones_df['Yellow_Trip_November']\n",
    "])\n",
    "\n",
    "merged_df"
<<<<<<< Updated upstream
   ],
   "outputs": [],
   "execution_count": null
=======
   ]
>>>>>>> Stashed changes
  },
  {
   "cell_type": "code",
   "execution_count": null,
   "metadata": {
    "colab": {
     "base_uri": "https://localhost:8080/"
    },
    "id": "BolU0Ds9vNx2",
    "outputId": "287c79c7-383c-4fd4-b384-3f75d9df19ca"
   },
   "outputs": [],
   "source": [
    "print(merged_df)"
<<<<<<< Updated upstream
   ],
   "outputs": [],
   "execution_count": null
=======
   ]
>>>>>>> Stashed changes
  },
  {
   "cell_type": "code",
   "execution_count": 27,
   "metadata": {
<<<<<<< Updated upstream
=======
    "ExecuteTime": {
     "end_time": "2024-04-27T22:38:08.096099Z",
     "start_time": "2024-04-27T22:38:08.055055Z"
    },
>>>>>>> Stashed changes
    "id": "fIj6OwJgsV_b"
   },
   "outputs": [],
   "source": [
    "#Revisar Renombramiento de columnas\n",
    "cols_zonas = ['borough_x', 'zone_x']\n",
    "pickups_by_zone = merged_df.groupby(['origin', *cols_zonas]).size().reset_index(name='count')\n",
    "pickups_by_zone = pickups_by_zone.sort_values(['origin', 'count'], ascending=[True, False]).groupby('origin').head(10)"
<<<<<<< Updated upstream
   ],
   "outputs": [],
   "execution_count": null
=======
   ]
>>>>>>> Stashed changes
  },
  {
   "cell_type": "code",
   "execution_count": 28,
   "metadata": {
    "ExecuteTime": {
     "end_time": "2024-04-27T22:38:31.574049Z",
     "start_time": "2024-04-27T22:38:31.060641Z"
    },
    "colab": {
     "base_uri": "https://localhost:8080/",
     "height": 612
    },
    "id": "mjRx1XU8o-B1",
    "outputId": "ce610589-244a-437b-b46c-93d68e8a56cb"
   },
   "outputs": [],
   "source": [
    "#nuevo_color = sns.color_palette(\"Set2\")\n",
    "fig = sns.catplot(\n",
    "    x='count',\n",
    "    y='zone_x',\n",
    "    hue='origin',\n",
    "    col='origin',\n",
    "    col_wrap=2,\n",
    "    data=pickups_by_zone,\n",
    "    kind='bar',\n",
    "    height=4,\n",
    "    aspect=1.5,\n",
    "    sharex=False,\n",
    "    sharey=False,\n",
    "    width=0.5\n",
    ")\n",
    "\n",
    "fig.fig.subplots_adjust(top=0.9)\n",
    "fig.fig.suptitle('Las Top 10 zonas por tipo de taxi y el mes correspondiente')\n",
    "fig.set_axis_labels('Conteo Recogidas', 'Zona de Recogidas')\n",
    "fig.set_titles('{col_name}')\n",
    "\n",
    "#Eliminar las leyendas duplicadas\n",
    "for ax in fig.axes.flat:\n",
    "    ax.legend().remove()"
<<<<<<< Updated upstream
   ],
   "outputs": [],
   "execution_count": null
=======
   ]
>>>>>>> Stashed changes
  },
  {
   "cell_type": "code",
   "execution_count": 29,
   "metadata": {
<<<<<<< Updated upstream
=======
    "ExecuteTime": {
     "end_time": "2024-04-27T22:40:56.859779Z",
     "start_time": "2024-04-27T22:40:56.680931Z"
    },
>>>>>>> Stashed changes
    "id": "4JjsWJC8J47g"
   },
   "outputs": [],
   "source": [
    "zones_shape = pd.merge(merged_df, df_taxi_zone_shp, left_on='pulocationid', right_on='locationid')\n",
    "zones_shape = gpd.GeoDataFrame(zones_shape, geometry=zones_shape.geometry)"
<<<<<<< Updated upstream
   ],
   "outputs": [],
   "execution_count": null
=======
   ]
>>>>>>> Stashed changes
  },
  {
   "cell_type": "code",
   "execution_count": null,
   "metadata": {
    "colab": {
     "base_uri": "https://localhost:8080/",
     "height": 964
    },
    "id": "ElJKtSOLMzRU",
    "outputId": "eb5a7b21-0919-4901-d9bf-5817f34aaf4e"
   },
   "outputs": [],
   "source": [
    "zones_shape"
<<<<<<< Updated upstream
   ],
   "outputs": [],
   "execution_count": null
=======
   ]
>>>>>>> Stashed changes
  },
  {
   "cell_type": "code",
   "execution_count": 30,
   "metadata": {
    "ExecuteTime": {
     "end_time": "2024-04-27T22:41:26.995921Z",
     "start_time": "2024-04-27T22:41:05.823645Z"
    },
    "colab": {
     "base_uri": "https://localhost:8080/",
     "height": 1000
    },
    "id": "ma8E_T_gMmrq",
    "outputId": "4f7f0880-27a8-44df-f0e4-39c4ac6278b7"
   },
   "outputs": [],
   "source": [
    "from caso01.plots import plot_heatmap_por_origen\n",
    "\n",
<<<<<<< Updated upstream
    "plot_heatmap_por_origen(zones_shape, 'Green_Trip_December', \"pulocationid\", \"NYC Taxi Pickup Locations\")\n",
    "plot_heatmap_por_origen(zones_shape, 'Green_Trip_November', \"pulocationid\", \"NYC Taxi Pickup Locations\")\n",
    "plot_heatmap_por_origen(zones_shape, 'Yellow_Trip_December', \"pulocationid\", \"NYC Taxi Pickup Locations\")"
   ],
   "outputs": [],
   "execution_count": null
=======
    "plot_heatmap_por_origen(zones_shape, 'Green_Trip_December', \"PULocationID\", \"NYC Taxi Pickup Locations\")\n",
    "plot_heatmap_por_origen(zones_shape, 'Green_Trip_November', \"PULocationID\", \"NYC Taxi Pickup Locations\")\n",
    "plot_heatmap_por_origen(zones_shape, 'Yellow_Trip_December', \"PULocationID\", \"NYC Taxi Pickup Locations\")"
   ]
>>>>>>> Stashed changes
  },
  {
   "cell_type": "markdown",
   "metadata": {
    "id": "t2wCrp1nKY4d"
   },
   "source": [
    "**2.2 ¿Cuál es el trayecto en el que la relación precio/km es más baja? ¿Cuál es el trayecto en el que la relación tiempo/km es más baja? ¿Cuál es el trayecto en el que la relación precio/tiempo es más baja?**"
   ]
  },
  {
   "cell_type": "code",
   "execution_count": null,
   "metadata": {
    "colab": {
     "base_uri": "https://localhost:8080/"
    },
    "id": "fbQKSBUGKfb1",
    "outputId": "08bd5229-d676-46ba-ab0d-42d0aa16d57a"
   },
   "outputs": [],
   "source": [
    "zones_shape.columns"
<<<<<<< Updated upstream
   ],
   "outputs": [],
   "execution_count": null
=======
   ]
>>>>>>> Stashed changes
  },
  {
   "cell_type": "code",
   "execution_count": 31,
   "metadata": {
    "ExecuteTime": {
     "end_time": "2024-04-27T22:42:27.992628Z",
     "start_time": "2024-04-27T22:42:27.963044Z"
    },
    "colab": {
     "base_uri": "https://localhost:8080/"
    },
    "id": "9W3Li3l8MjKY",
    "outputId": "1595c2f2-35fd-41c6-86ee-b28f888e0201"
   },
   "outputs": [],
   "source": [
<<<<<<< Updated upstream
    "#Creamos una función donde se calcule la tarifa más alta por kilómetro para cada viaje.\n",
    "from caso01.medidas import tarifa_por_viaje\n",
    "tarifa_viaje_km_mas_baja = tarifa_por_viaje(zones_shape)\n",
    "tarifa_viaje_km_mas_baja"
   ],
   "outputs": [],
   "execution_count": null
=======
    "# Creamos una función donde se calcule la tarifa más alta por kilómetro para cada viaje.\n",
    "def tarifa_por_viaje(gdf):\n",
    "  resultado = (\n",
    "      gdf.assign(fare_per_km = lambda x: x['fare_amount']/x['trip_distance']).loc[lambda x: x['fare_per_km'].idxmax()]\n",
    "  )\n",
    "  print('El trayecto en el que la relación precio/km más alta es:')\n",
    "  print(f\"Empieza en: {resultado['zone_x']} y finaliza en:{resultado['zone_y']}\")\n",
    "  return resultado[\n",
    "      ['VendorID', 'lpep_pickup_datetime', 'lpep_dropoff_datetime',\n",
    "        'store_and_fwd_flag', 'RatecodeID', 'PULocationID', 'DOLocationID',\n",
    "        'passenger_count', 'trip_distance', 'fare_amount', 'extra', 'mta_tax',\n",
    "        'tip_amount']]\n",
    "\n",
    "tarifa_viaje_km_mas_baja = tarifa_por_viaje(zones_shape)\n",
    "tarifa_viaje_km_mas_baja"
   ]
>>>>>>> Stashed changes
  },
  {
   "cell_type": "code",
   "execution_count": 32,
   "metadata": {
    "ExecuteTime": {
     "end_time": "2024-04-27T22:43:10.656108Z",
     "start_time": "2024-04-27T22:43:10.609539Z"
    },
    "colab": {
     "base_uri": "https://localhost:8080/"
    },
    "id": "UZNCbhHmqdvc",
    "outputId": "56043b74-0411-4792-9476-490eb82b7c48"
   },
   "outputs": [],
   "source": [
    "def calcular_tiempo_por_km(dtf):\n",
    "  dtf = dtf.assign(\n",
    "      lpep_pickup_datetime=lambda x: pd.to_datetime(x['lpep_pickup_datetime']),\n",
    "      lpep_dropoff_datetime=lambda x: pd.to_datetime(x['lpep_dropoff_datetime']),\n",
    "      trip_time_in_secs=lambda x: (x['lpep_dropoff_datetime'] - x['lpep_pickup_datetime']).dt.total_seconds(), time_per_km=lambda x: x['trip_time_in_secs'] / x['trip_distance']\n",
    "  )\n",
    "\n",
    "  tarifa_tiempo_mas_baja_viaje = dtf.loc[dtf['time_per_km'].idxmin()]\n",
    "  print('El trayecto en el que la relación tiempo/km es mas baja es:')\n",
    "  print(f\"Desde {tarifa_tiempo_mas_baja_viaje['zone_x']} a {tarifa_tiempo_mas_baja_viaje['zone_y']}\")\n",
    "\n",
    "  return tarifa_tiempo_mas_baja_viaje[['VendorID', 'lpep_pickup_datetime', 'lpep_dropoff_datetime',\n",
    "                                    'store_and_fwd_flag', 'RatecodeID', 'PULocationID', 'DOLocationID',\n",
    "                                    'passenger_count', 'trip_distance', 'fare_amount', 'extra', 'mta_tax',\n",
    "                                    'tip_amount']]\n",
    "\n",
    "resultado_tiempo_mas_bajo = calcular_tiempo_por_km(zones_shape)\n",
    "resultado_tiempo_mas_bajo"
<<<<<<< Updated upstream
   ],
   "outputs": [],
   "execution_count": null
=======
   ]
>>>>>>> Stashed changes
  },
  {
   "cell_type": "code",
   "execution_count": 33,
   "metadata": {
    "ExecuteTime": {
     "end_time": "2024-04-27T22:43:19.114115Z",
     "start_time": "2024-04-27T22:43:19.097430Z"
    },
    "colab": {
     "base_uri": "https://localhost:8080/"
    },
    "id": "bo9NJljsszol",
    "outputId": "5281e8af-1974-431e-8bea-98b055336db2"
   },
   "outputs": [],
   "source": [
    "def calcular_tarifa_por_tiempo(dtf):\n",
    "    dtf['lpep_pickup_datetime'] = pd.to_datetime(dtf['lpep_pickup_datetime'])\n",
    "    dtf['lpep_dropoff_datetime'] = pd.to_datetime(dtf['lpep_dropoff_datetime'])\n",
    "    dtf['trip_time_in_secs'] = (dtf['lpep_dropoff_datetime'] - dtf['lpep_pickup_datetime']).dt.total_seconds()\n",
    "    dtf['fare_per_time'] = dtf['fare_amount'] / dtf['trip_time_in_secs']\n",
    "\n",
    "    tarifa_mas_baja_viaje = dtf.loc[dtf['fare_per_time'].idxmin()]\n",
    "    print('El trayecto con la relación precio/tiempo más baja es:')\n",
    "    print(f\"Empieza en: {tarifa_mas_baja_viaje['zone_x']} y finaliza en: {tarifa_mas_baja_viaje['zone_y']}\")\n",
    "\n",
    "    return tarifa_mas_baja_viaje[['VendorID', 'lpep_pickup_datetime', 'lpep_dropoff_datetime',\n",
    "                                   'store_and_fwd_flag', 'RatecodeID', 'PULocationID', 'DOLocationID',\n",
    "                                   'passenger_count', 'trip_distance', 'fare_amount', 'extra', 'mta_tax',\n",
    "                                   'tip_amount']]\n",
    "\n",
    "resultado_tarifa_mas_baja_tiempo = calcular_tarifa_por_tiempo(zones_shape)\n",
    "resultado_tarifa_mas_baja_tiempo"
<<<<<<< Updated upstream
   ],
   "outputs": [],
   "execution_count": null
=======
   ]
>>>>>>> Stashed changes
  },
  {
   "cell_type": "markdown",
   "metadata": {
    "id": "jrY_J0qVKd5K"
   },
   "source": [
    "**2.3 Muestra la evolución del tiempo medio de trayecto a lo largo del día. Muestra la evolución de la distancia media de trayecto a lo largo del día**"
   ]
  },
  {
   "cell_type": "code",
   "execution_count": 34,
   "metadata": {
    "ExecuteTime": {
     "end_time": "2024-04-27T22:43:32.407089Z",
     "start_time": "2024-04-27T22:43:32.278193Z"
    },
    "colab": {
     "base_uri": "https://localhost:8080/",
     "height": 651
    },
    "id": "SMQ6MN4fKiwR",
    "outputId": "1e201c3f-f632-4349-9237-a3e503763148"
   },
   "outputs": [],
   "source": [
    "from caso01.medidas import evolucion_tiempo_trayecto\n",
    "\n",
    "media_t_viaje, media_dist_viaje = evolucion_tiempo_trayecto(zones_shape)\n",
    "\n",
    "fig, ax = plt.subplots(figsize=(12, 8))\n",
    "plt.plot(media_t_viaje.index, media_dist_viaje.values, marker='o', linestyle='-')\n",
    "plt.title('Evolución del Tiempo Medio de Trayecto a lo largo del Día')\n",
    "plt.xlabel('Hora del Día')\n",
    "plt.ylabel('Tiempo Medio de Trayecto (minutos)')\n",
    "plt.grid(True)\n",
    "plt.xticks(range(24))\n",
    "plt.show()"
<<<<<<< Updated upstream
   ],
   "outputs": [],
   "execution_count": null
=======
   ]
>>>>>>> Stashed changes
  },
  {
   "cell_type": "markdown",
   "metadata": {
    "id": "YHz_t0qHOwtB"
   },
   "source": [
    "**2.4 Elige dos zonas cualquiera de la ciudad y calcula la probabilidad de desplazarse de una zona a otra en menos de X minutos. (El valor X así como las zonas deben ser fácilmente modificables).**"
   ]
  },
  {
   "cell_type": "code",
   "execution_count": 35,
   "metadata": {
<<<<<<< Updated upstream
    "id": "zmPg9JJPOwdm",
    "outputId": "a265332f-f479-4567-f94d-3dba2a1c74d5",
    "colab": {
     "base_uri": "https://localhost:8080/"
    }
=======
    "ExecuteTime": {
     "end_time": "2024-04-27T22:44:06.969888Z",
     "start_time": "2024-04-27T22:44:06.948207Z"
    },
    "colab": {
     "base_uri": "https://localhost:8080/"
    },
    "id": "zmPg9JJPOwdm",
    "outputId": "a265332f-f479-4567-f94d-3dba2a1c74d5"
>>>>>>> Stashed changes
   },
   "outputs": [],
   "source": [
    "from caso01.medidas import probabilidad_zonas\n",
    "\n",
    "zona_recogida = 'West Chelsea/Hudson Yards'\n",
    "zona_destino = 'Forest Hills'\n",
    "X = 50\n",
    "prob = probabilidad_zonas(zones_shape, X, zona_recogida, zona_destino)\n",
    "print(f\"La probabilidad de desplazarse de {zona_recogida} a {zona_destino} en menos de {X} minutos es: {prob:.2%}\")\n"
<<<<<<< Updated upstream
   ],
   "outputs": [],
   "execution_count": null
=======
   ]
>>>>>>> Stashed changes
  },
  {
   "cell_type": "markdown",
   "metadata": {
    "id": "5A9aykrOvNx_"
   },
   "source": [
    "**2.5\tRepite los apartados 1.1, 1.2, 1.3, 2.1, 2.2, 2.3 y 2.4 con un dataset del mismo mes pero del año 2009. Comenta todas las diferencias que vayas encontrando.**"
   ]
  },
  {
   "cell_type": "code",
   "execution_count": 36,
   "metadata": {
    "ExecuteTime": {
     "end_time": "2024-04-27T22:47:32.887402Z",
     "start_time": "2024-04-27T22:46:18.826538Z"
    },
    "colab": {
     "base_uri": "https://localhost:8080/",
     "height": 443
<<<<<<< Updated upstream
    }
=======
    },
    "id": "Zy10furyvNx_",
    "outputId": "33cbedb7-fb6e-4e67-be34-93d0c5acb34b"
>>>>>>> Stashed changes
   },
   "outputs": [],
   "source": [
    "yellow_tripdata_200912 = \"https://d37ci6vzurychx.cloudfront.net/trip-data/yellow_tripdata_2009-12.parquet\"\n",
    "df_Yellow_Trip_December_2009 = pd.read_parquet(yellow_tripdata_200912, engine='pyarrow')\n",
    "df_Yellow_Trip_December_2009"
<<<<<<< Updated upstream
   ],
   "outputs": [],
   "execution_count": null
=======
   ]
>>>>>>> Stashed changes
  },
  {
   "cell_type": "markdown",
   "metadata": {
    "id": "w-XO0XmTvNyA"
   },
   "source": [
    "DATAFRAME PRUEBA"
   ]
  },
  {
   "cell_type": "markdown",
   "metadata": {
    "id": "JTDS21oTvNyA"
   },
   "source": [
    "2.5\tRepite los apartados 1.1, 1.2, 1.3, 2.1, 2.2, 2.3 y 2.4 con un dataset del mismo mes pero del año 2009. Comenta todas las diferencias que vayas encontrando."
   ]
  },
  {
   "cell_type": "markdown",
   "metadata": {
    "id": "x4gUmFmEvNyA"
   },
   "source": [
    "- 1.1 Primer examen preliminar del dataset.  ¿En qué formato está el dataset y qué tiene que ver este formato con Big Data? ¿Qué parámetros hay en el dataset? ¿Cuál es su significado? ¿Existen valores aparentemente incorrectos?"
   ]
  },
  {
   "cell_type": "markdown",
   "metadata": {
    "id": "YvgEWiuSvNyA"
   },
   "source": [
    "¿En qué formato está el dataset y qué tiene que ver este formato con Big Data?\n",
    "- El dataset está en formato Parquet, el cuál es un formato de almacenamiento de datos columnar que esta optimizado para Big Data. Este formato es eficiente en cuanto a espacio y permite un procesamiento más rápido para conjuntos con altos volumenes de datos. En el contexto de nuestro caso, este formato es especialmente útil para consultas analíticas en las que se deben acceder a columnas especificas en lugar de todas las filas de los datos.\n",
    "\n",
    "¿Qué parámetros hay en el dataset? y ¿Cuál es su significado?\n",
    "- VendorID: ID del proveedor del servicio de taxi.\n",
    "- tpep_pickup_datetime: Fecha y hora de recogida del taxi.\n",
    "- tpep_dropoff_datetime: Fecha y hora de entrega del taxi.\n",
    "- passenger_count: Número de pasajeros en el taxi.\n",
    "- trip_distance: Distancia del viaje en millas.\n",
    "- pickup_longitude y pickup_latitude: Coordenadas de recogida.\n",
    "- dropoff_longitude y dropoff_latitude: Coordenadas de entrega.\n",
    "- fare_amount: Tarifa del viaje.\n",
    "- total_amount: Tarifa total del viaje, incluyendo propinas y peajes."
   ]
  },
  {
   "cell_type": "markdown",
   "metadata": {
    "id": "360F-PM5vNyA"
   },
   "source": [
    "¿Existen valores aparentemente incorrectos?"
   ]
  },
  {
   "cell_type": "code",
   "execution_count": 37,
   "metadata": {
    "ExecuteTime": {
     "end_time": "2024-04-27T22:48:00.211298Z",
     "start_time": "2024-04-27T22:47:57.178204Z"
    },
    "colab": {
     "base_uri": "https://localhost:8080/",
     "height": 1000
<<<<<<< Updated upstream
    }
=======
    },
    "id": "Sb_iRaV0vNyA",
    "outputId": "09a0d9e3-93ec-4c57-d9a4-7c52d7e8a191"
>>>>>>> Stashed changes
   },
   "outputs": [],
   "source": [
    "for column in df_Yellow_Trip_December_2009.columns:\n",
    "    if pd.api.types.is_numeric_dtype(df_Yellow_Trip_December_2009[column]):\n",
    "        plt.figure(figsize=(10, 4))\n",
    "        plt.hist(df_Yellow_Trip_December_2009[column].dropna(), bins=30, edgecolor='black', color='darkorchid')\n",
    "        plt.title(f'Histograma de {column}')\n",
    "        plt.xlabel('Valor')\n",
    "        plt.ylabel('Frecuencia')\n",
    "        plt.grid(True)\n",
    "        plt.show()"
<<<<<<< Updated upstream
   ],
   "outputs": [],
   "execution_count": null
=======
   ]
>>>>>>> Stashed changes
  },
  {
   "cell_type": "code",
   "execution_count": null,
   "metadata": {
    "colab": {
     "base_uri": "https://localhost:8080/"
    },
    "id": "LI6OW-SqvNyA",
    "outputId": "6081e9a3-6df7-4674-c035-e50c460970ee"
   },
   "outputs": [],
   "source": [
    "#Realizamos Describe del dataset para analizar posibles outliers\n",
    "print(df_Yellow_Trip_December_2009.describe())"
<<<<<<< Updated upstream
   ],
   "outputs": [],
   "execution_count": null
=======
   ]
>>>>>>> Stashed changes
  },
  {
   "cell_type": "markdown",
   "metadata": {
    "id": "GxRCAUgCvNyA"
   },
   "source": [
    "Preprocesamiento del Dataset"
   ]
  },
  {
   "cell_type": "code",
   "execution_count": null,
   "metadata": {
    "colab": {
     "base_uri": "https://localhost:8080/",
     "height": 443
    },
    "id": "KXijUfmFvNyA",
    "outputId": "624b8554-4b82-492e-ea63-7170049e29ad"
   },
   "outputs": [],
   "source": [
    "df_Yellow_Trip_December_2009"
<<<<<<< Updated upstream
   ],
   "outputs": [],
   "execution_count": null
=======
   ]
>>>>>>> Stashed changes
  },
  {
   "cell_type": "markdown",
   "metadata": {
    "id": "ODcZsbvZvNyA"
   },
   "source": [
    "Verificamos si las columnas del dataset del 2009 son diferentes con respecto a las columnas de los datatset mas actuales"
   ]
  },
  {
   "cell_type": "code",
   "execution_count": 38,
   "metadata": {
<<<<<<< Updated upstream
=======
    "ExecuteTime": {
     "end_time": "2024-04-27T22:48:12.062454Z",
     "start_time": "2024-04-27T22:48:12.060021Z"
    },
>>>>>>> Stashed changes
    "id": "mWHJYizMvNyA"
   },
   "outputs": [],
   "source": [
    "#Columnas en el primer conjunto\n",
    "columnas_yellow_2009 = ['vendor_name', 'trip_pickup_datetime', 'trip_dropoff_datetime',\n",
    "              'passenger_count', 'trip_distance', 'start_lon', 'start_lat',\n",
    "              'rate_code', 'store_and_forward', 'end_lon', 'end_lat', 'payment_type',\n",
    "              'fare_amt', 'surcharge', 'mta_tax', 'tip_amt', 'tolls_amt',\n",
    "              'total_amt']\n",
    "\n",
    "#Columnas en el segundo conjunto\n",
    "columnas_yellow_2022 = ['vendorid', 'lpep_pickup_datetime', 'lpep_dropoff_datetime',\n",
    "              'passenger_count', 'trip_distance', 'ratecodeid', 'store_and_fwd_flag',\n",
    "              'pulocationid', 'dolocationid', 'payment_type', 'fare_amount', 'extra',\n",
    "              'mta_tax', 'tip_amount', 'tolls_amount', 'improvement_surcharge',\n",
<<<<<<< Updated upstream
    "              'total_amount', 'congestion_surcharge', 'airport_fee']"
   ],
   "outputs": [],
   "execution_count": null
=======
    "              'total_amount', 'congestion_surcharge', 'airport_fee']\n",
    "\n",
    "#for columna in columnas_2:\n",
    "#    if columna not in columnas_1:\n",
    "#        print(columna)"
   ]
>>>>>>> Stashed changes
  },
  {
   "cell_type": "markdown",
   "metadata": {
    "id": "T7EGGcx1vNyA"
   },
   "source": [
    "Realizamos la limpieza de los datos dentro del Dataset del 2009"
   ]
  },
  {
   "cell_type": "code",
   "execution_count": 39,
   "metadata": {
<<<<<<< Updated upstream
    "id": "fv3l6wlSvNyA",
    "outputId": "f6ec4818-e75e-4597-d837-4ef393da3e17",
    "colab": {
     "base_uri": "https://localhost:8080/"
    }
=======
    "ExecuteTime": {
     "end_time": "2024-04-27T22:48:38.172804Z",
     "start_time": "2024-04-27T22:48:28.110426Z"
    },
    "colab": {
     "base_uri": "https://localhost:8080/"
    },
    "id": "fv3l6wlSvNyA",
    "outputId": "f6ec4818-e75e-4597-d837-4ef393da3e17"
>>>>>>> Stashed changes
   },
   "outputs": [],
   "source": [
    "from caso01.limpieza import limpieza_datos_2009\n",
    "\n",
<<<<<<< Updated upstream
    "df_yellow_trip_december_2009_limpio = limpieza_datos_2009(df_Yellow_Trip_December_2009)"
   ],
   "outputs": [],
   "execution_count": null
=======
    "df_Yellow_Trip_December_2009_limpio = limpieza_Datos_2009(df_Yellow_Trip_December_2009)"
   ]
>>>>>>> Stashed changes
  },
  {
   "cell_type": "markdown",
   "metadata": {
    "id": "oXNLt51avNyA"
   },
   "source": [
    "Ploteamos el dataset limpio para validar que la limpieza haya quedado correcta"
   ]
  },
  {
   "cell_type": "code",
   "execution_count": null,
   "metadata": {
    "colab": {
     "base_uri": "https://localhost:8080/",
     "height": 443
    },
    "id": "Il_PM4etvNyA",
    "outputId": "58a5ef9a-c7db-43b6-c64c-bd06e6e95a26"
   },
<<<<<<< Updated upstream
   "source": "df_yellow_trip_december_2009_limpio",
   "outputs": [],
   "execution_count": null
=======
   "outputs": [],
   "source": [
    "df_Yellow_Trip_December_2009_limpio"
   ]
>>>>>>> Stashed changes
  },
  {
   "cell_type": "code",
   "execution_count": null,
   "metadata": {
    "colab": {
     "base_uri": "https://localhost:8080/"
    },
    "id": "7dVToxDQvNyA",
    "outputId": "df1bfa22-32bd-4b66-8354-db90c9bd7ee2"
   },
<<<<<<< Updated upstream
   "source": "df_yellow_trip_december_2009_limpio.dtypes",
   "outputs": [],
   "execution_count": null
=======
   "outputs": [],
   "source": [
    "df_Yellow_Trip_December_2009_limpio.dtypes"
   ]
>>>>>>> Stashed changes
  },
  {
   "cell_type": "markdown",
   "metadata": {
    "id": "Iev9mHqmvNyA"
   },
   "source": [
    "Determinamos el polígono correspondiente a la zona del mapa con las longitudes y latitudes del dataset del 2009"
   ]
  },
  {
   "cell_type": "code",
   "execution_count": 51,
   "metadata": {
    "ExecuteTime": {
     "end_time": "2024-04-27T23:21:29.533127Z",
     "start_time": "2024-04-27T23:21:29.482269Z"
    },
    "colab": {
     "base_uri": "https://localhost:8080/",
     "height": 443
    },
<<<<<<< Updated upstream
=======
    "id": "pQ3WyxRHvNyA",
>>>>>>> Stashed changes
    "outputId": "41d46c75-069c-4df4-eada-c68ae276fe50"
   },
   "outputs": [],
   "source": [
    "df_subset = df_yellow_trip_december_2009_limpio.sample(100000)\n",
    "print(df_subset)\n",
    "print(df_taxi_zone_shp)\n",
    "df_taxi_zone_shp"
<<<<<<< Updated upstream
   ],
   "outputs": [],
   "execution_count": null
=======
   ]
>>>>>>> Stashed changes
  },
  {
   "cell_type": "markdown",
   "metadata": {
    "id": "fW3VRCWFvNyB"
   },
   "source": [
    "Realizamos un join con los dataframes de Yellow Cabs 2009 y el Zone Shape"
   ]
  },
  {
   "cell_type": "code",
   "execution_count": 44,
   "metadata": {
<<<<<<< Updated upstream
=======
    "ExecuteTime": {
     "end_time": "2024-04-27T23:15:26.568752Z",
     "start_time": "2024-04-27T23:15:25.073790Z"
    },
>>>>>>> Stashed changes
    "id": "03FmLmebvNyB"
   },
   "outputs": [],
   "source": [
    "df_subset['start_geometry'] = df_subset.apply(lambda row: Point(row['Start_Lon'], row['Start_Lat']), axis=1)\n",
    "df_subset['end_geometry'] = df_subset.apply(lambda row: Point(row['End_Lon'], row['End_Lat']), axis=1)\n",
    "\n",
    "print(df_subset)\n",
    "#geo_df_viajes_start = gpd.GeoDataFrame(df_subset, geometry='start_geometry', crs='EPSG:4326')\n",
    "#geo_df_viajes_end = gpd.GeoDataFrame(df_subset, geometry='end_geometry', crs='EPSG:4326')\n",
    "#geo_df_zones = gpd.GeoDataFrame(df_zone_shapefile, geometry='geometry', crs='EPSG:4326')\n",
    "\n",
    "#joined_df_start = gpd.sjoin(geo_df_viajes_start, geo_df_zones, how='left', op='within')\n",
    "#joined_df_end = gpd.sjoin(geo_df_viajes_end, geo_df_zones, how='left', op='within')\n",
    "#joined_df = joined_df_start.merge(joined_df_end, how='outer')"
<<<<<<< Updated upstream
   ],
   "outputs": [],
   "execution_count": null
=======
   ]
>>>>>>> Stashed changes
  },
  {
   "cell_type": "code",
   "execution_count": null,
   "metadata": {
    "colab": {
     "base_uri": "https://localhost:8080/",
     "height": 704
    },
    "id": "aJ9bbkJCvNyB",
    "outputId": "80706fe0-acee-4ac0-d638-52239a8f6c42"
   },
   "outputs": [],
   "source": [
    "joined_df"
<<<<<<< Updated upstream
   ],
   "outputs": [],
   "execution_count": null
=======
   ]
>>>>>>> Stashed changes
  },
  {
   "cell_type": "code",
   "execution_count": null,
   "metadata": {
    "colab": {
     "base_uri": "https://localhost:8080/",
     "height": 377
    },
    "id": "S_Z05QwuvNyB",
    "outputId": "b7b8f23f-7705-42c1-c1b8-bb80999394bd"
   },
   "outputs": [],
   "source": [
    "#joined_df.head()"
<<<<<<< Updated upstream
   ],
   "outputs": [],
   "execution_count": null
=======
   ]
>>>>>>> Stashed changes
  },
  {
   "cell_type": "code",
   "execution_count": null,
   "metadata": {
    "id": "i06L0n9XvNyB",
    "outputId": "d5a10e0a-382f-4b5d-c3dd-33abf19841c1"
   },
   "outputs": [],
   "source": [
    "#plt.hexbin(joined_df['Start_Lon'], joined_df['Start_Lat'], gridsize=50, cmap='plasma')  # Cambia 'plasma' por otro mapa de color\n",
    "#plt.hexbin(joined_df['End_Lon'], joined_df['End_Lat'], gridsize=50, cmap='plasma', alpha=0.5)  # Cambia 'plasma' por otro mapa de color\n",
    "#plt.xlabel('Longitud')\n",
    "#plt.ylabel('Latitud')\n",
    "#plt.title('Heatmap de puntos de inicio y fin de viaje')\n",
    "#plt.colorbar(label='Frecuencia')\n",
    "#plt.show()\n"
<<<<<<< Updated upstream
   ],
   "outputs": [],
   "execution_count": null
=======
   ]
>>>>>>> Stashed changes
  },
  {
   "cell_type": "code",
   "execution_count": null,
   "metadata": {
    "id": "lCuL-EmNvNyB"
   },
   "outputs": [],
   "source": [
    "#Ploteamos las zonas de recogida y otro con las zonas de llegada del dataset\n",
    "#plt.figure(figsize=(12, 8))\n",
    "#plt.scatter(df_Yellow_Trip_December_2009['Start_Lon'], df_Yellow_Trip_December_2009['Start_Lat'], alpha=0.5, label='Zonas de Recogida', c='blue')\n",
    "#plt.scatter(df_Yellow_Trip_December_2009['End_Lon'], df_Yellow_Trip_December_2009['End_Lat'], alpha=0.5, label='Zonas de Llegada', c='green')\n",
    "#plt.title('Zonas de Recogida y Llegada de Yellow Cabs - Diciembre 2009')\n",
    "#plt.xlabel('Longitud')\n",
    "#plt.ylabel('Latitud')\n",
    "#plt.legend()\n",
    "#plt.grid(True)\n",
    "#plt.show()"
<<<<<<< Updated upstream
   ],
   "outputs": [],
   "execution_count": null
=======
   ]
>>>>>>> Stashed changes
  },
  {
   "cell_type": "code",
   "execution_count": 72,
   "metadata": {
    "ExecuteTime": {
     "end_time": "2024-04-28T14:32:46.830757Z",
     "start_time": "2024-04-28T14:32:41.151657Z"
    },
    "id": "9b5A7YsHiWCr"
   },
   "outputs": [],
   "source": [
    "# source: https://data.cityofnewyork.us/City-Government/Section_ZoningMapIndex/jsdz-u4b8/about_data\n",
    "# download: https://data.cityofnewyork.us/resource/jsdz-u4b8.csv\n",
    "\n",
    "# source: https://data.cityofnewyork.us/Transportation/NYC-Taxi-Zones/d3c5-ddgc\n",
    "# download: https://data.cityofnewyork.us/api/views/755u-8jsi/rows.csv?accessType=DOWNLOAD\n",
    "\n",
    "url_nyc_zones = \"https://data.cityofnewyork.us/api/views/755u-8jsi/rows.csv?accessType=DOWNLOAD\"\n",
    "df_nyc_zones = pd.read_csv(url_nyc_zones)\n",
    "df_nyc_zones.rename(columns={'the_geom': 'geometry'}, inplace=True)\n",
    "\n",
    "#ax = df_zone_shapefile.plot(figsize=(50, 50), color='lightgrey', edgecolor='black')\n",
    "start_gdf = gpd.GeoDataFrame(\n",
    "    df_nyc_zones,\n",
    "    geometry=gpd.points_from_xy(\n",
    "        df_yellow_trip_december_2009_limpio['Start_Lon'],\n",
    "        df_yellow_trip_december_2009_limpio['Start_Lat']\n",
    "    )\n",
    ")\n",
    "#start_gdf.crs =  df_zone_shapefile.crs\n",
    "#start_gdf.plot(ax=ax, marker='o', color='red', markersize=5)\n",
    "start_gdf.plot(figsize=(50,50), alpha=0.5, cmap='Reds', legend=True, label='Zonas de Recogida')\n",
    "\n",
    "#end_gdf = gpd.GeoDataFrame(\n",
    "#    df_Yellow_Trip_December_2009_limpio,\n",
    "#    geometry=gpd.points_from_xy(\n",
    "#        df_Yellow_Trip_December_2009_limpio['End_Lon'],\n",
    "#        df_Yellow_Trip_December_2009_limpio['End_Lat']\n",
    "#    )\n",
    "#)\n",
    "#end_gdf.crs =  df_zone_shapefile.crs\n",
    "#end_gdf.plot(ax=ax, marker='x', color='green', markersize=5)\n",
    "#end_gdf.plot(ax=ax, figsize=(50,50), alpha=0.5, cmap='plasma', legend=True, label='Zonas de Llegada')\n",
    "\n",
    "#plt.show()"
<<<<<<< Updated upstream
   ],
   "metadata": {
    "id": "9b5A7YsHiWCr"
   },
   "outputs": [],
   "execution_count": null
=======
   ]
>>>>>>> Stashed changes
  },
  {
   "cell_type": "code",
<<<<<<< Updated upstream
   "source": "",
   "outputs": [],
   "execution_count": null
=======
   "execution_count": null,
   "metadata": {},
   "outputs": [],
   "source": []
>>>>>>> Stashed changes
  }
 ],
 "metadata": {
  "colab": {
   "provenance": []
  },
  "kernelspec": {
   "display_name": "Python 3 (ipykernel)",
   "language": "python",
   "name": "python3"
  },
  "language_info": {
   "codemirror_mode": {
    "name": "ipython",
    "version": 3
   },
   "file_extension": ".py",
   "mimetype": "text/x-python",
   "name": "python",
   "nbconvert_exporter": "python",
   "pygments_lexer": "ipython3",
   "version": "3.11.9"
  }
 },
 "nbformat": 4,
 "nbformat_minor": 0
}
